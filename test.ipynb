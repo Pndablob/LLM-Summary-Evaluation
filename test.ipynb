{
 "cells": [
  {
   "cell_type": "code",
   "execution_count": 10,
   "id": "d85eae49-fe2e-4cc8-9dad-8b2a52cc6803",
   "metadata": {},
   "outputs": [],
   "source": [
    "# Remember to install pdfplumber first: pip3 install pdfplumber\n",
    "import pdfplumber"
   ]
  },
  {
   "cell_type": "code",
   "execution_count": 11,
   "id": "bb7ec94b-bb29-4e70-ac64-e4f1bbc30b06",
   "metadata": {},
   "outputs": [],
   "source": [
    "def extract_entire_document(pdf_path):\n",
    "    with pdfplumber.open(pdf_path) as pdf:\n",
    "        text = ''\n",
    "        for page in pdf.pages:\n",
    "            text += page.extract_text() + '\\n'  \n",
    "        return text"
   ]
  },
  {
   "cell_type": "code",
   "execution_count": 12,
   "id": "0ba91b36-9ed9-4126-b07d-5a97c9787590",
   "metadata": {},
   "outputs": [
    {
     "ename": "FileNotFoundError",
     "evalue": "[Errno 2] No such file or directory: 'French 473 Syllabus.pdf'",
     "output_type": "error",
     "traceback": [
      "\u001b[0;31m---------------------------------------------------------------------------\u001b[0m",
      "\u001b[0;31mFileNotFoundError\u001b[0m                         Traceback (most recent call last)",
      "Cell \u001b[0;32mIn[12], line 2\u001b[0m\n\u001b[1;32m      1\u001b[0m pdf_path \u001b[38;5;241m=\u001b[39m \u001b[38;5;124m'\u001b[39m\u001b[38;5;124mFrench 473 Syllabus.pdf\u001b[39m\u001b[38;5;124m'\u001b[39m\n\u001b[0;32m----> 2\u001b[0m entire_document \u001b[38;5;241m=\u001b[39m \u001b[43mextract_entire_document\u001b[49m\u001b[43m(\u001b[49m\u001b[43mpdf_path\u001b[49m\u001b[43m)\u001b[49m\n\u001b[1;32m      3\u001b[0m \u001b[38;5;28mprint\u001b[39m(\u001b[38;5;124m\"\u001b[39m\u001b[38;5;124mEntire PDF content:\u001b[39m\u001b[38;5;124m\"\u001b[39m)\n\u001b[1;32m      4\u001b[0m \u001b[38;5;28mprint\u001b[39m(entire_document)\n",
      "Cell \u001b[0;32mIn[11], line 2\u001b[0m, in \u001b[0;36mextract_entire_document\u001b[0;34m(pdf_path)\u001b[0m\n\u001b[1;32m      1\u001b[0m \u001b[38;5;28;01mdef\u001b[39;00m \u001b[38;5;21mextract_entire_document\u001b[39m(pdf_path):\n\u001b[0;32m----> 2\u001b[0m     \u001b[38;5;28;01mwith\u001b[39;00m \u001b[43mpdfplumber\u001b[49m\u001b[38;5;241;43m.\u001b[39;49m\u001b[43mopen\u001b[49m\u001b[43m(\u001b[49m\u001b[43mpdf_path\u001b[49m\u001b[43m)\u001b[49m \u001b[38;5;28;01mas\u001b[39;00m pdf:\n\u001b[1;32m      3\u001b[0m         text \u001b[38;5;241m=\u001b[39m \u001b[38;5;124m'\u001b[39m\u001b[38;5;124m'\u001b[39m\n\u001b[1;32m      4\u001b[0m         \u001b[38;5;28;01mfor\u001b[39;00m page \u001b[38;5;129;01min\u001b[39;00m pdf\u001b[38;5;241m.\u001b[39mpages:\n",
      "File \u001b[0;32m/Library/Frameworks/Python.framework/Versions/3.12/lib/python3.12/site-packages/pdfplumber/pdf.py:92\u001b[0m, in \u001b[0;36mPDF.open\u001b[0;34m(cls, path_or_fp, pages, laparams, password, strict_metadata, unicode_norm, repair, gs_path, repair_setting)\u001b[0m\n\u001b[1;32m     90\u001b[0m     path \u001b[38;5;241m=\u001b[39m \u001b[38;5;28;01mNone\u001b[39;00m\n\u001b[1;32m     91\u001b[0m \u001b[38;5;28;01melif\u001b[39;00m \u001b[38;5;28misinstance\u001b[39m(path_or_fp, (\u001b[38;5;28mstr\u001b[39m, pathlib\u001b[38;5;241m.\u001b[39mPath)):\n\u001b[0;32m---> 92\u001b[0m     stream \u001b[38;5;241m=\u001b[39m \u001b[38;5;28;43mopen\u001b[39;49m\u001b[43m(\u001b[49m\u001b[43mpath_or_fp\u001b[49m\u001b[43m,\u001b[49m\u001b[43m \u001b[49m\u001b[38;5;124;43m\"\u001b[39;49m\u001b[38;5;124;43mrb\u001b[39;49m\u001b[38;5;124;43m\"\u001b[39;49m\u001b[43m)\u001b[49m\n\u001b[1;32m     93\u001b[0m     stream_is_external \u001b[38;5;241m=\u001b[39m \u001b[38;5;28;01mFalse\u001b[39;00m\n\u001b[1;32m     94\u001b[0m     path \u001b[38;5;241m=\u001b[39m pathlib\u001b[38;5;241m.\u001b[39mPath(path_or_fp)\n",
      "\u001b[0;31mFileNotFoundError\u001b[0m: [Errno 2] No such file or directory: 'French 473 Syllabus.pdf'"
     ]
    }
   ],
   "source": [
    "pdf_path = 'French 473 Syllabus.pdf'\n",
    "entire_document = extract_entire_document(pdf_path)\n",
    "print(\"Entire PDF content:\")\n",
    "print(entire_document)"
   ]
  },
  {
   "cell_type": "code",
   "execution_count": null,
   "id": "df796b05-04d5-46d6-84bc-fdd5b6b75c2e",
   "metadata": {},
   "outputs": [
    {
     "name": "stdout",
     "output_type": "stream",
     "text": [
      "Defaulting to user installation because normal site-packages is not writeable\n",
      "Requirement already satisfied: openai in /Users/rohanmalvi/Library/Python/3.9/lib/python/site-packages (0.28.0)\n",
      "Requirement already satisfied: requests>=2.20 in /Users/rohanmalvi/Library/Python/3.9/lib/python/site-packages (from openai) (2.31.0)\n",
      "Requirement already satisfied: tqdm in /Users/rohanmalvi/Library/Python/3.9/lib/python/site-packages (from openai) (4.66.1)\n",
      "Requirement already satisfied: aiohttp in /Users/rohanmalvi/Library/Python/3.9/lib/python/site-packages (from openai) (3.9.3)\n",
      "Requirement already satisfied: charset-normalizer<4,>=2 in /Users/rohanmalvi/Library/Python/3.9/lib/python/site-packages (from requests>=2.20->openai) (3.3.2)\n",
      "Requirement already satisfied: idna<4,>=2.5 in /Users/rohanmalvi/Library/Python/3.9/lib/python/site-packages (from requests>=2.20->openai) (3.6)\n",
      "Requirement already satisfied: urllib3<3,>=1.21.1 in /Users/rohanmalvi/Library/Python/3.9/lib/python/site-packages (from requests>=2.20->openai) (2.1.0)\n",
      "Requirement already satisfied: certifi>=2017.4.17 in /Users/rohanmalvi/Library/Python/3.9/lib/python/site-packages (from requests>=2.20->openai) (2023.11.17)\n",
      "Requirement already satisfied: aiosignal>=1.1.2 in /Users/rohanmalvi/Library/Python/3.9/lib/python/site-packages (from aiohttp->openai) (1.3.1)\n",
      "Requirement already satisfied: attrs>=17.3.0 in /Users/rohanmalvi/Library/Python/3.9/lib/python/site-packages (from aiohttp->openai) (23.2.0)\n",
      "Requirement already satisfied: frozenlist>=1.1.1 in /Users/rohanmalvi/Library/Python/3.9/lib/python/site-packages (from aiohttp->openai) (1.4.1)\n",
      "Requirement already satisfied: multidict<7.0,>=4.5 in /Users/rohanmalvi/Library/Python/3.9/lib/python/site-packages (from aiohttp->openai) (6.0.4)\n",
      "Requirement already satisfied: yarl<2.0,>=1.0 in /Users/rohanmalvi/Library/Python/3.9/lib/python/site-packages (from aiohttp->openai) (1.9.4)\n",
      "Requirement already satisfied: async-timeout<5.0,>=4.0 in /Users/rohanmalvi/Library/Python/3.9/lib/python/site-packages (from aiohttp->openai) (4.0.3)\n",
      "\n",
      "\u001b[1m[\u001b[0m\u001b[34;49mnotice\u001b[0m\u001b[1;39;49m]\u001b[0m\u001b[39;49m A new release of pip is available: \u001b[0m\u001b[31;49m24.1\u001b[0m\u001b[39;49m -> \u001b[0m\u001b[32;49m24.3.1\u001b[0m\n",
      "\u001b[1m[\u001b[0m\u001b[34;49mnotice\u001b[0m\u001b[1;39;49m]\u001b[0m\u001b[39;49m To update, run: \u001b[0m\u001b[32;49m/Library/Developer/CommandLineTools/usr/bin/python3 -m pip install --upgrade pip\u001b[0m\n"
     ]
    }
   ],
   "source": [
    "!pip install openai"
   ]
  },
  {
   "cell_type": "code",
   "execution_count": null,
   "id": "423eada5-2957-4d2f-8a3b-3f02b979fd34",
   "metadata": {},
   "outputs": [
    {
     "name": "stderr",
     "output_type": "stream",
     "text": [
      "/Users/rohanmalvi/Library/Python/3.9/lib/python/site-packages/urllib3/__init__.py:34: NotOpenSSLWarning: urllib3 v2 only supports OpenSSL 1.1.1+, currently the 'ssl' module is compiled with 'LibreSSL 2.8.3'. See: https://github.com/urllib3/urllib3/issues/3020\n",
      "  warnings.warn(\n"
     ]
    }
   ],
   "source": [
    "import openai"
   ]
  },
  {
   "cell_type": "code",
   "execution_count": null,
   "id": "4fb2280a-4fdb-4754-92d9-08599552f161",
   "metadata": {},
   "outputs": [],
   "source": [
    "def summarize_document(text, model=\"gpt-4\"):\n",
    "    try:\n",
    "        response = openai.ChatCompletion.create(\n",
    "            model=model,\n",
    "            messages=[\n",
    "                {\"role\": \"system\", \"content\": \"You are an assistant that summarizes documents concisely.\"},\n",
    "                {\"role\": \"user\", \"content\": f\"Summarize this syllabus:\\n\\n{text}\"}\n",
    "            ],\n",
    "            max_tokens=500,  # Adjust based on the length of the expected summary\n",
    "            temperature=0.5  # Lower temperature for more focused summaries\n",
    "        )\n",
    "        return response['choices'][0]['message']['content'].strip()\n",
    "    except Exception as e:\n",
    "        print(\"An error occurred:\", e)\n",
    "        return None"
   ]
  },
  {
   "cell_type": "code",
   "execution_count": null,
   "id": "00fd9eab-4ffa-43c3-b0d6-b2476f9e01de",
   "metadata": {},
   "outputs": [
    {
     "name": "stdout",
     "output_type": "stream",
     "text": [
      "\n",
      "Sending to OpenAI for summarization...\n",
      "\n",
      "Summary of the syllabus:\n",
      "The syllabus is for Français 473, Advanced Grammar and Composition II, taught by E.Valenta at UMass in Autumn 2022. The class meets on Mondays and Wednesdays from 14:30 to 15:45. Office hours are on Mondays from 16:00 to 17:30. The course is a continuation of French 371 and focuses on advanced language, textual analysis, and written composition. It does not cover oral French or basic grammar. Students are expected to improve their vocabulary and revise basic grammar individually. All work will be done in French, and regular participation is mandatory. \n",
      "\n",
      "The course involves discussing literary texts, deepening language knowledge, and completing exercises. Students will also learn literary analysis and continue learning critical writing. Grades will be based on three exams (30%), three written analysis assignments (30%), quizzes on OWL (15%), homework (10%), and participation (15%). Plagiarism is strictly forbidden. \n",
      "\n",
      "The course schedule details the topics to be covered in each session, the work to be done, and the deadlines for assignments. Disability accommodations are available, and all course materials are protected by copyright laws.\n"
     ]
    }
   ],
   "source": [
    "# Main execution\n",
    "if __name__ == \"__main__\":\n",
    "    pdf_path = \"French 473 Syllabus.pdf\" \n",
    "    entire_document = extract_entire_document(pdf_path)\n",
    "    \n",
    "    #print(\"Extracted text from the PDF:\")\n",
    "    #print(entire_document)  \n",
    "\n",
    "    print(\"\\nSending to OpenAI for summarization...\\n\")\n",
    "    summary = summarize_document(entire_document)\n",
    "    \n",
    "    print(\"Summary of the syllabus:\")\n",
    "    print(summary)"
   ]
  },
  {
   "cell_type": "code",
   "execution_count": null,
   "id": "62260434-f4f6-4ea0-a6ad-7dbae45add94",
   "metadata": {},
   "outputs": [],
   "source": []
  }
 ],
 "metadata": {
  "kernelspec": {
   "display_name": "Python 3 (ipykernel)",
   "language": "python",
   "name": "python3"
  },
  "language_info": {
   "codemirror_mode": {
    "name": "ipython",
    "version": 3
   },
   "file_extension": ".py",
   "mimetype": "text/x-python",
   "name": "python",
   "nbconvert_exporter": "python",
   "pygments_lexer": "ipython3",
   "version": "3.12.5"
  }
 },
 "nbformat": 4,
 "nbformat_minor": 5
}
